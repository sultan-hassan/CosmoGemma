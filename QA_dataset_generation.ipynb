{
 "cells": [
  {
   "cell_type": "markdown",
   "id": "165c74cd-b85a-4845-838f-264c0eb9e54a",
   "metadata": {},
   "source": [
    "# **Generating Q&A dataset from arXiv articles (https://www.kaggle.com/datasets/Cornell-University/arxiv)**"
   ]
  },
  {
   "cell_type": "markdown",
   "id": "8fed2794-645c-4d90-af20-d651b9d22acf",
   "metadata": {},
   "source": [
    "### Select only articles from Cosmology and Nongalactic Astrophysics (astro-ph.CO). Articles from 2018-2022 are used for fine-tuning and from 2023 for testing. The Q&A Dataset will be generated from the abstracts of the selected articles. "
   ]
  },
  {
   "cell_type": "code",
   "execution_count": 1,
   "id": "26f89d08-533a-4e05-abb5-94366b374766",
   "metadata": {},
   "outputs": [
    {
     "name": "stdout",
     "output_type": "stream",
     "text": [
      "Total number of selected articles 3497\n",
      "Total number of all articles 2560035\n"
     ]
    }
   ],
   "source": [
    "import json\n",
    "data = []\n",
    "n1 = 0\n",
    "n2 = 0\n",
    "with open('./arxiv-metadata-oai-snapshot.json') as file:\n",
    "    for line in file:\n",
    "        features = json.loads(line)\n",
    "        #if features['categories'] == \"astro-ph.CO\" and    int(features['update_date'][:4]) == 2023: # This is for testing\n",
    "        if features['categories'] == \"astro-ph.CO\" and   2018  < int(features['update_date'][:4]) < 2023: # This is for fine-tuning \n",
    "            data.append(features['abstract'])\n",
    "            n1+=1\n",
    "        n2+=1\n",
    "\n",
    "print (\"Total number of selected articles\", n1)\n",
    "print (\"Total number of all articles\", n2)"
   ]
  },
  {
   "cell_type": "markdown",
   "id": "ff11530f-4f6f-4b39-9047-4de193eab9ac",
   "metadata": {},
   "source": [
    "### See some random abstarct"
   ]
  },
  {
   "cell_type": "code",
   "execution_count": 2,
   "id": "87fe23e9-24de-4edc-92af-be80395cf85d",
   "metadata": {},
   "outputs": [
    {
     "data": {
      "text/plain": [
       "'  At present, dwarf spheroidal galaxies satellites of the Milky Way may\\nrepresent the best astrophysical objects for dark matter (DM) searches with\\ngamma-ray telescopes. They present the highest mass-to-light ratios known in\\nthe Universe. Furthermore, many of them are near enough from the Earth to be\\nable to yield high predicted DM annihilation fluxes that might be observed by\\ncurrent gamma-ray instruments like MAGIC. The picture has become even better\\nwith the recent discovery of new dwarfs. These new objects are expected to\\nyield even higher DM annihilation fluxes, since most of them are nearer than\\nthe previously known dwarfs and are even more DM dominated systems. Here a\\ntentative list of the best candidates is given. The observational results\\nobtained with MAGIC from the Draco dwarf as well as the observation of other\\ndwarfs carried out by other Cherenkov telescopes are presented as well.\\nFinally, we discuss the detection prospects of such kind of objects in the\\ncontext of DM searches.\\n'"
      ]
     },
     "execution_count": 2,
     "metadata": {},
     "output_type": "execute_result"
    }
   ],
   "source": [
    "data[0]"
   ]
  },
  {
   "cell_type": "markdown",
   "id": "c3fd740b-978d-412e-b5cb-bedf813ddcdd",
   "metadata": {},
   "source": [
    "### Use langchain, and Ollama to run llama3.1:8b-instruct-fp16 model to generate QA pair from a given abstract"
   ]
  },
  {
   "cell_type": "code",
   "execution_count": 3,
   "id": "ef3bc851-11e5-4c76-aa0e-d49e221dee27",
   "metadata": {},
   "outputs": [],
   "source": [
    "from langchain.prompts import ChatPromptTemplate, PromptTemplate\n",
    "from langchain.output_parsers import ResponseSchema, StructuredOutputParser\n",
    "from langchain_community.chat_models import ChatOllama\n",
    "\n",
    "\n",
    "response_schemas = [\n",
    "    ResponseSchema(name=\"Question\", description=\"the generated question from the provided context\"),\n",
    "    ResponseSchema(name=\"Answer\", description=\"the corresponding answer from the provided context\")]\n",
    "output_parser = StructuredOutputParser.from_response_schemas(response_schemas)\n",
    "format_instructions = output_parser.get_format_instructions(only_json=True)\n",
    "\n",
    "llm = ChatOllama(model=\"llama3.1:8b-instruct-fp16\", temperature=0.0, format='json')#, keep_alive='16h')"
   ]
  },
  {
   "cell_type": "markdown",
   "id": "448b60e8-12fd-43e7-8a1c-421e203262ed",
   "metadata": {},
   "source": [
    "### Prompte template to generate QA pair"
   ]
  },
  {
   "cell_type": "code",
   "execution_count": 15,
   "id": "9d9a64bf-39ef-4cc9-bd76-417f0a5f0d0f",
   "metadata": {},
   "outputs": [],
   "source": [
    "TEMPLATE = \"\"\" You are a cosmologist. Your task is to generate a meaningful question and an answer using the following provided \"{context}\" from a cosmology and nongalactic astrophysics article \\n\\n   \n",
    "\"You MUST obey the following criteria:\\n\"\n",
    "\"- No pre-amble.\\n\"\n",
    "\"- Restrict the question to the context information provided.\\n\"\n",
    "\"- Do NOT create a question that cannot be answered from the context.\\n\"\n",
    "\"- Phrase the question so that it does NOT refer to specific context.\\n\"\n",
    "\"- For instance, do NOT use phrases like 'given the provided context' or 'in this work' in the question or 'according to the text' in the answer becuse if the question is asked elsewher it would not be provided specific context. Replace these terms with specific details.\\n\"\n",
    "\"- Please do NOT repeat the provided context.\\n\"\n",
    "\"- Please Only generate a question and an answer without any sentence in advance such as \"Here is the generated question and answer:\".\\n\"\n",
    "\"- Please follow JSON recommended format below.\\n\"\n",
    "\"- Please ensure that the ouput is a valid JSON object.\\n\"\n",
    "\"{format_instructions}\"\"\"\n",
    "\n",
    "prompt = ChatPromptTemplate.from_template(template=TEMPLATE)\n"
   ]
  },
  {
   "cell_type": "markdown",
   "id": "0880f71e-5648-469d-8406-7647c84ecdf4",
   "metadata": {},
   "source": [
    "### Loop through all abstracts and generate QA pairs"
   ]
  },
  {
   "cell_type": "code",
   "execution_count": 18,
   "id": "8f66c5b9-4889-41ee-ac0b-d80e7c314db9",
   "metadata": {},
   "outputs": [
    {
     "name": "stdout",
     "output_type": "stream",
     "text": [
      "################### Abstract 0\n",
      "0 b'  At present, dwarf spheroidal galaxies satellites of the Milky Way may\\nrepresent the best astrophysical objects for dark matter (DM) searches with\\ngamma-ray telescopes. They present the highest mass-to-light ratios known in\\nthe Universe. Furthermore, many of them are near enough from the Earth to be\\nable to yield high predicted DM annihilation fluxes that might be observed by\\ncurrent gamma-ray instruments like MAGIC. The picture has become even better\\nwith the recent discovery of new dwarfs. These new objects are expected to\\nyield even higher DM annihilation fluxes, since most of them are nearer than\\nthe previously known dwarfs and are even more DM dominated systems. Here a\\ntentative list of the best candidates is given. The observational results\\nobtained with MAGIC from the Draco dwarf as well as the observation of other\\ndwarfs carried out by other Cherenkov telescopes are presented as well.\\nFinally, we discuss the detection prospects of such kind of objects in the\\ncontext of DM searches.\\n'\n",
      "Generated QA pair ---->\n",
      "Question: What type of astrophysical objects are considered to have the highest mass-to-light ratios in the Universe?\n",
      "Answer: Dwarf spheroidal galaxies\n",
      "################### Abstract 1\n",
      "1 b'  The IMAGES project aims at measuring the velocity fields of a representative\\nsample of 100 massive galaxies at z=0.4-0.75, selected in the CDFS, the CFRS\\nand the HDFS fields. It uses the world-unique mode of multiple integral field\\nunits of FLAMES/ GIRAFFE at VLT. The resolved-kinematics data allow us to\\nsample the large scale motions at ~ few kpc scale for each galaxy. They have\\nbeen combined with the deepest HST/ACS, Spitzer (MIPS and IRAC) and VLT/FORS2\\never achieved observations. Most intermediate redshift galaxies show anomalous\\nvelocity fields: 6 Gyrs ago, half of the present day spirals were out of\\nequilibrium and had peculiar morphologies. The wealth of the data in these\\nfields allow us to modelize the physical processes in each galaxy with an\\naccuracy almost similar to what is done in the local Universe. These detailed\\nanalyses reveal the importance of merger processes, including their remnant\\nphases. Together with the large evolution of spiral properties, this points out\\nthe importance of disk survival and strengthens the disk rebuilding scenario.\\nThis suggests that the hierarchical scenario may apply to the elaboration of\\ndisk galaxies as it does for ellipticals.\\n'\n",
      "Generated QA pair ---->\n",
      "Question: What do resolved-kinematics data allow us to sample at a scale of ~ few kpc for each galaxy?\n",
      "Answer: large scale motions\n"
     ]
    }
   ],
   "source": [
    "responses = []\n",
    "for i in range(2):\n",
    "    print (\"################### Abstract\", i)\n",
    "    print (i, data[i].encode('ascii', errors='ignore'))\n",
    "    print (\"Generated QA pair ---->\")\n",
    "    messages = prompt.format_messages(context=data[i].encode('ascii', errors='ignore'), format_instructions=format_instructions)    \n",
    "    response = llm.invoke(messages)\n",
    "    output_dict = output_parser.parse(response.content)\n",
    "    print (\"Question: \" + output_dict['Question'])\n",
    "    print (\"Answer: \" + output_dict['Answer'])\n",
    "    responses.append(output_dict)\n",
    "\n",
    "\n",
    "# Saving dataset\n",
    "#np.save(\"responses_astrophco-23-QAfull.npy\", np.array(res_arr))\n"
   ]
  },
  {
   "cell_type": "code",
   "execution_count": null,
   "id": "d97391dc-0f19-4df4-9bca-b31059802ce5",
   "metadata": {},
   "outputs": [],
   "source": []
  }
 ],
 "metadata": {
  "kernelspec": {
   "display_name": "Python 3 (ipykernel)",
   "language": "python",
   "name": "python3"
  },
  "language_info": {
   "codemirror_mode": {
    "name": "ipython",
    "version": 3
   },
   "file_extension": ".py",
   "mimetype": "text/x-python",
   "name": "python",
   "nbconvert_exporter": "python",
   "pygments_lexer": "ipython3",
   "version": "3.10.12"
  }
 },
 "nbformat": 4,
 "nbformat_minor": 5
}
