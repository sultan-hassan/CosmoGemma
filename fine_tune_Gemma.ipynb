{
 "cells": [
  {
   "cell_type": "markdown",
   "id": "165c74cd-b85a-4845-838f-264c0eb9e54a",
   "metadata": {},
   "source": [
    "# Fine-tuning Gemma"
   ]
  },
  {
   "cell_type": "markdown",
   "id": "8fed2794-645c-4d90-af20-d651b9d22acf",
   "metadata": {},
   "source": [
    "### Select only articles from Cosmology and Nongalactic Astrophysics (astro-ph.CO). Articles from 2018-2022 are used for fine-tuning and from 2023 for testing. The Q&A Dataset will be generated from the abstracts of the selected articles. "
   ]
  },
  {
   "cell_type": "code",
   "execution_count": 9,
   "id": "1c6ccefe-3034-4b8b-b6b2-0dabcf1f6eb6",
   "metadata": {},
   "outputs": [],
   "source": [
    "! export KAGGLE_USERNAME=sultanhhassan\n",
    "! export KAGGLE_KEY=d95c12c75374c46f148fb3f401cb9fae"
   ]
  },
  {
   "cell_type": "code",
   "execution_count": 10,
   "id": "26f89d08-533a-4e05-abb5-94366b374766",
   "metadata": {},
   "outputs": [],
   "source": [
    "import os\n",
    "os.environ[\"KERAS_BACKEND\"] = \"jax\"  # Or \"torch\" or \"tensorflow\".                                                                                                                          \n",
    "# Avoid memory fragmentation on JAX backend.                                                                                                                                                \n",
    "os.environ[\"XLA_PYTHON_CLIENT_MEM_FRACTION\"]=\"1.00\""
   ]
  },
  {
   "cell_type": "code",
   "execution_count": 11,
   "id": "4472c7d4-123b-4a77-83dd-7d5d4e5887b4",
   "metadata": {},
   "outputs": [],
   "source": [
    "import json"
   ]
  },
  {
   "cell_type": "code",
   "execution_count": 12,
   "id": "42e8e2fb-7b01-4771-a4ef-46dd0087c073",
   "metadata": {},
   "outputs": [],
   "source": [
    "import keras\n",
    "import keras_nlp\n",
    "import numpy as np"
   ]
  },
  {
   "cell_type": "code",
   "execution_count": 13,
   "id": "0f7edfa3-9f5a-42ef-b52d-a450fe88a100",
   "metadata": {},
   "outputs": [
    {
     "name": "stdout",
     "output_type": "stream",
     "text": [
      "QA_dataset_generation.ipynb\n",
      "README.md\n",
      "arxiv_astrophco_qa_pairs_2018_2022_finetuning.json\n",
      "arxiv_astrophco_qa_pairs_2023_testing.json\n",
      "arxiv_filtered_astrophco-18-22.json\n",
      "arxiv_filtered_astrophco-23.json\n",
      "evaluation_LLM_as_judge.ipynb\n",
      "fine_tune_Gemma.ipynb\n"
     ]
    }
   ],
   "source": [
    "ls"
   ]
  },
  {
   "cell_type": "code",
   "execution_count": 14,
   "id": "35374411-dd78-496f-a12c-7a5b70110796",
   "metadata": {},
   "outputs": [],
   "source": [
    "with open('arxiv_astrophco_qa_pairs_2018_2022_finetuning.json', 'r') as f:\n",
    "  data = json.load(f)"
   ]
  },
  {
   "cell_type": "code",
   "execution_count": 15,
   "id": "dd18dadd-b13b-4811-a619-437f565755eb",
   "metadata": {},
   "outputs": [],
   "source": [
    "data_list = []\n",
    "for i in range(len(data)):\n",
    "     data_list.append((\"Instruction:\\n\"+data[i]['Question']+\"\\n\\nResponse:\\n\"+data[i]['REF_ANS']).encode('ascii', errors='ignore'))"
   ]
  },
  {
   "cell_type": "markdown",
   "id": "ff11530f-4f6f-4b39-9047-4de193eab9ac",
   "metadata": {},
   "source": [
    "### See first abstarct"
   ]
  },
  {
   "cell_type": "code",
   "execution_count": 16,
   "id": "87fe23e9-24de-4edc-92af-be80395cf85d",
   "metadata": {},
   "outputs": [
    {
     "ename": "ValueError",
     "evalue": "Preset gemma2_2b_en has no config.json. Make sure the URI or directory you are trying to load is a valid KerasNLP preset and and that you have permissions to read/download from this location.",
     "output_type": "error",
     "traceback": [
      "\u001b[0;31m---------------------------------------------------------------------------\u001b[0m",
      "\u001b[0;31mValueError\u001b[0m                                Traceback (most recent call last)",
      "Cell \u001b[0;32mIn[16], line 1\u001b[0m\n\u001b[0;32m----> 1\u001b[0m gemma_lm \u001b[38;5;241m=\u001b[39m \u001b[43mkeras_nlp\u001b[49m\u001b[38;5;241;43m.\u001b[39;49m\u001b[43mmodels\u001b[49m\u001b[38;5;241;43m.\u001b[39;49m\u001b[43mGemmaCausalLM\u001b[49m\u001b[38;5;241;43m.\u001b[39;49m\u001b[43mfrom_preset\u001b[49m\u001b[43m(\u001b[49m\u001b[38;5;124;43m\"\u001b[39;49m\u001b[38;5;124;43mgemma2_2b_en\u001b[39;49m\u001b[38;5;124;43m\"\u001b[39;49m\u001b[43m)\u001b[49m\n\u001b[1;32m      2\u001b[0m gemma_lm\u001b[38;5;241m.\u001b[39msummary()\n",
      "File \u001b[0;32m/opt/homebrew/lib/python3.10/site-packages/keras_nlp/src/models/task.py:192\u001b[0m, in \u001b[0;36mTask.from_preset\u001b[0;34m(cls, preset, load_weights, **kwargs)\u001b[0m\n\u001b[1;32m    185\u001b[0m \u001b[38;5;28;01mif\u001b[39;00m \u001b[38;5;28mcls\u001b[39m \u001b[38;5;241m==\u001b[39m Task:\n\u001b[1;32m    186\u001b[0m     \u001b[38;5;28;01mraise\u001b[39;00m \u001b[38;5;167;01mValueError\u001b[39;00m(\n\u001b[1;32m    187\u001b[0m         \u001b[38;5;124m\"\u001b[39m\u001b[38;5;124mDo not call `Task.from_preset()` directly. Instead call a \u001b[39m\u001b[38;5;124m\"\u001b[39m\n\u001b[1;32m    188\u001b[0m         \u001b[38;5;124m\"\u001b[39m\u001b[38;5;124mparticular task class, e.g. \u001b[39m\u001b[38;5;124m\"\u001b[39m\n\u001b[1;32m    189\u001b[0m         \u001b[38;5;124m\"\u001b[39m\u001b[38;5;124m`keras_nlp.models.TextClassifier.from_preset()`.\u001b[39m\u001b[38;5;124m\"\u001b[39m\n\u001b[1;32m    190\u001b[0m     )\n\u001b[0;32m--> 192\u001b[0m loader \u001b[38;5;241m=\u001b[39m \u001b[43mget_preset_loader\u001b[49m\u001b[43m(\u001b[49m\u001b[43mpreset\u001b[49m\u001b[43m)\u001b[49m\n\u001b[1;32m    193\u001b[0m backbone_cls \u001b[38;5;241m=\u001b[39m loader\u001b[38;5;241m.\u001b[39mcheck_backbone_class()\n\u001b[1;32m    194\u001b[0m \u001b[38;5;66;03m# Detect the correct subclass if we need to.\u001b[39;00m\n",
      "File \u001b[0;32m/opt/homebrew/lib/python3.10/site-packages/keras_nlp/src/utils/preset_utils.py:636\u001b[0m, in \u001b[0;36mget_preset_loader\u001b[0;34m(preset)\u001b[0m\n\u001b[1;32m    631\u001b[0m \u001b[38;5;28;01mfrom\u001b[39;00m \u001b[38;5;21;01mkeras_nlp\u001b[39;00m\u001b[38;5;21;01m.\u001b[39;00m\u001b[38;5;21;01msrc\u001b[39;00m\u001b[38;5;21;01m.\u001b[39;00m\u001b[38;5;21;01mutils\u001b[39;00m\u001b[38;5;21;01m.\u001b[39;00m\u001b[38;5;21;01mtransformers\u001b[39;00m\u001b[38;5;21;01m.\u001b[39;00m\u001b[38;5;21;01mpreset_loader\u001b[39;00m \u001b[38;5;28;01mimport\u001b[39;00m (\n\u001b[1;32m    632\u001b[0m     TransformersPresetLoader,\n\u001b[1;32m    633\u001b[0m )\n\u001b[1;32m    635\u001b[0m \u001b[38;5;28;01mif\u001b[39;00m \u001b[38;5;129;01mnot\u001b[39;00m check_file_exists(preset, CONFIG_FILE):\n\u001b[0;32m--> 636\u001b[0m     \u001b[38;5;28;01mraise\u001b[39;00m \u001b[38;5;167;01mValueError\u001b[39;00m(\n\u001b[1;32m    637\u001b[0m         \u001b[38;5;124mf\u001b[39m\u001b[38;5;124m\"\u001b[39m\u001b[38;5;124mPreset \u001b[39m\u001b[38;5;132;01m{\u001b[39;00mpreset\u001b[38;5;132;01m}\u001b[39;00m\u001b[38;5;124m has no \u001b[39m\u001b[38;5;132;01m{\u001b[39;00mCONFIG_FILE\u001b[38;5;132;01m}\u001b[39;00m\u001b[38;5;124m. Make sure the URI or \u001b[39m\u001b[38;5;124m\"\u001b[39m\n\u001b[1;32m    638\u001b[0m         \u001b[38;5;124m\"\u001b[39m\u001b[38;5;124mdirectory you are trying to load is a valid KerasNLP preset and \u001b[39m\u001b[38;5;124m\"\u001b[39m\n\u001b[1;32m    639\u001b[0m         \u001b[38;5;124m\"\u001b[39m\u001b[38;5;124mand that you have permissions to read/download from this location.\u001b[39m\u001b[38;5;124m\"\u001b[39m\n\u001b[1;32m    640\u001b[0m     )\n\u001b[1;32m    641\u001b[0m \u001b[38;5;66;03m# We currently assume all formats we support have a `config.json`, this is\u001b[39;00m\n\u001b[1;32m    642\u001b[0m \u001b[38;5;66;03m# true, for Keras, Transformers, and timm. We infer the on disk format by\u001b[39;00m\n\u001b[1;32m    643\u001b[0m \u001b[38;5;66;03m# inspecting the `config.json` file.\u001b[39;00m\n\u001b[1;32m    644\u001b[0m config \u001b[38;5;241m=\u001b[39m load_json(preset, CONFIG_FILE)\n",
      "\u001b[0;31mValueError\u001b[0m: Preset gemma2_2b_en has no config.json. Make sure the URI or directory you are trying to load is a valid KerasNLP preset and and that you have permissions to read/download from this location."
     ]
    }
   ],
   "source": [
    "gemma_lm = keras_nlp.models.GemmaCausalLM.from_preset(\"gemma2_2b_en\")\n",
    "gemma_lm.summary()"
   ]
  },
  {
   "cell_type": "markdown",
   "id": "c3fd740b-978d-412e-b5cb-bedf813ddcdd",
   "metadata": {},
   "source": [
    "### Use langchain, and Ollama to run llama3.1:8b-instruct-fp16 model to generate QA pair from a given abstract"
   ]
  },
  {
   "cell_type": "code",
   "execution_count": 4,
   "id": "ef3bc851-11e5-4c76-aa0e-d49e221dee27",
   "metadata": {},
   "outputs": [],
   "source": [
    "from langchain.prompts import ChatPromptTemplate, PromptTemplate\n",
    "from langchain.output_parsers import ResponseSchema, StructuredOutputParser\n",
    "from langchain_community.chat_models import ChatOllama\n",
    "\n",
    "\n",
    "response_schemas = [\n",
    "    ResponseSchema(name=\"Question\", description=\"the generated question from the provided context\"),\n",
    "    ResponseSchema(name=\"Answer\", description=\"the corresponding answer from the provided context\")]\n",
    "output_parser = StructuredOutputParser.from_response_schemas(response_schemas)\n",
    "format_instructions = output_parser.get_format_instructions(only_json=True)\n",
    "\n",
    "llm = ChatOllama(model=\"llama3.1:8b-instruct-fp16\", temperature=0.0, format='json')#, keep_alive='16h')"
   ]
  },
  {
   "cell_type": "markdown",
   "id": "448b60e8-12fd-43e7-8a1c-421e203262ed",
   "metadata": {},
   "source": [
    "### Prompte template to generate QA pair"
   ]
  },
  {
   "cell_type": "code",
   "execution_count": 5,
   "id": "9d9a64bf-39ef-4cc9-bd76-417f0a5f0d0f",
   "metadata": {},
   "outputs": [],
   "source": [
    "TEMPLATE = \"\"\" You are a cosmologist. Your task is to generate a meaningful question and an answer using the following provided \"{context}\" from a cosmology and nongalactic astrophysics article \\n\\n   \n",
    "\"You MUST obey the following criteria:\\n\"\n",
    "\"- No pre-amble.\\n\"\n",
    "\"- Restrict the question to the context information provided.\\n\"\n",
    "\"- Do NOT create a question that cannot be answered from the context.\\n\"\n",
    "\"- Phrase the question so that it does NOT refer to specific context.\\n\"\n",
    "\"- For instance, do NOT use phrases like 'given the provided context' or 'in this work' in the question or 'according to the text' in the answer becuse if the question is asked elsewher it would not be provided specific context. Replace these terms with specific details.\\n\"\n",
    "\"- Please do NOT repeat the provided context.\\n\"\n",
    "\"- Please Only generate a question and an answer without any sentence in advance such as \"Here is the generated question and answer:\".\\n\"\n",
    "\"- Please follow JSON recommended format below.\\n\"\n",
    "\"- Please ensure that the ouput is a valid JSON object.\\n\"\n",
    "\"{format_instructions}\"\"\"\n",
    "\n",
    "prompt = ChatPromptTemplate.from_template(template=TEMPLATE)\n"
   ]
  },
  {
   "cell_type": "markdown",
   "id": "0880f71e-5648-469d-8406-7647c84ecdf4",
   "metadata": {},
   "source": [
    "### Loop through all abstracts and generate QA pairs"
   ]
  },
  {
   "cell_type": "code",
   "execution_count": 6,
   "id": "8f66c5b9-4889-41ee-ac0b-d80e7c314db9",
   "metadata": {},
   "outputs": [
    {
     "name": "stdout",
     "output_type": "stream",
     "text": [
      "################### Abstract 0\n",
      "b'  At present, dwarf spheroidal galaxies satellites of the Milky Way may\\nrepresent the best astrophysical objects for dark matter (DM) searches with\\ngamma-ray telescopes. They present the highest mass-to-light ratios known in\\nthe Universe. Furthermore, many of them are near enough from the Earth to be\\nable to yield high predicted DM annihilation fluxes that might be observed by\\ncurrent gamma-ray instruments like MAGIC. The picture has become even better\\nwith the recent discovery of new dwarfs. These new objects are expected to\\nyield even higher DM annihilation fluxes, since most of them are nearer than\\nthe previously known dwarfs and are even more DM dominated systems. Here a\\ntentative list of the best candidates is given. The observational results\\nobtained with MAGIC from the Draco dwarf as well as the observation of other\\ndwarfs carried out by other Cherenkov telescopes are presented as well.\\nFinally, we discuss the detection prospects of such kind of objects in the\\ncontext of DM searches.\\n'\n",
      "################### Generated QA pair\n",
      "Question: What type of astrophysical objects are considered to have the highest mass-to-light ratios in the Universe?\n",
      "Answer: Dwarf spheroidal galaxies\n",
      "################### Abstract 1\n",
      "b'  The IMAGES project aims at measuring the velocity fields of a representative\\nsample of 100 massive galaxies at z=0.4-0.75, selected in the CDFS, the CFRS\\nand the HDFS fields. It uses the world-unique mode of multiple integral field\\nunits of FLAMES/ GIRAFFE at VLT. The resolved-kinematics data allow us to\\nsample the large scale motions at ~ few kpc scale for each galaxy. They have\\nbeen combined with the deepest HST/ACS, Spitzer (MIPS and IRAC) and VLT/FORS2\\never achieved observations. Most intermediate redshift galaxies show anomalous\\nvelocity fields: 6 Gyrs ago, half of the present day spirals were out of\\nequilibrium and had peculiar morphologies. The wealth of the data in these\\nfields allow us to modelize the physical processes in each galaxy with an\\naccuracy almost similar to what is done in the local Universe. These detailed\\nanalyses reveal the importance of merger processes, including their remnant\\nphases. Together with the large evolution of spiral properties, this points out\\nthe importance of disk survival and strengthens the disk rebuilding scenario.\\nThis suggests that the hierarchical scenario may apply to the elaboration of\\ndisk galaxies as it does for ellipticals.\\n'\n",
      "################### Generated QA pair\n",
      "Question: What do resolved-kinematics data allow us to sample at a scale of ~ few kpc for each galaxy?\n",
      "Answer: large scale motions\n"
     ]
    }
   ],
   "source": [
    "responses = []\n",
    "for i in range(2): # we here generate 2 QA pairs from the first 2 abstracts as a demo\n",
    "    print (\"################### Abstract\", i)\n",
    "    print (data[i].encode('ascii', errors='ignore'))\n",
    "    print (\"################### Generated QA pair\")\n",
    "    messages = prompt.format_messages(context=data[i].encode('ascii', errors='ignore'), format_instructions=format_instructions)    \n",
    "    response = llm.invoke(messages)\n",
    "    output_dict = output_parser.parse(response.content)\n",
    "    print (\"Question: \" + output_dict['Question'])\n",
    "    print (\"Answer: \" + output_dict['Answer'])\n",
    "    responses.append(output_dict)"
   ]
  },
  {
   "cell_type": "code",
   "execution_count": 7,
   "id": "d97391dc-0f19-4df4-9bca-b31059802ce5",
   "metadata": {},
   "outputs": [],
   "source": [
    "# Saving dataset\n",
    "#with open('Arxiv_astroph.CO_QA_pairs_2018_2022.json', 'w') as f:\n",
    "#    json.dump(responses, f)\n",
    "# Reading dataset    \n",
    "#with open('Arxiv_astroph.CO_QA_pairs_2023.json', 'w') as f:\n",
    "#    json.dump(responses, f)"
   ]
  },
  {
   "cell_type": "markdown",
   "id": "87ef8680-b35d-4b00-b5d1-dc3e5a61820e",
   "metadata": {},
   "source": [
    "### check first QA pair"
   ]
  },
  {
   "cell_type": "code",
   "execution_count": 8,
   "id": "b0ba8b78-6a3c-4b90-8a77-82c36821e0bb",
   "metadata": {},
   "outputs": [
    {
     "data": {
      "text/plain": [
       "'What type of astrophysical objects are considered to have the highest mass-to-light ratios in the Universe?'"
      ]
     },
     "execution_count": 8,
     "metadata": {},
     "output_type": "execute_result"
    }
   ],
   "source": [
    "responses[0]['Question']"
   ]
  },
  {
   "cell_type": "code",
   "execution_count": 9,
   "id": "8f893fd7-1b7d-4dc0-9076-7ee1fe033353",
   "metadata": {},
   "outputs": [
    {
     "data": {
      "text/plain": [
       "'Dwarf spheroidal galaxies'"
      ]
     },
     "execution_count": 9,
     "metadata": {},
     "output_type": "execute_result"
    }
   ],
   "source": [
    "responses[0]['Answer']"
   ]
  },
  {
   "cell_type": "code",
   "execution_count": null,
   "id": "bcc5d4eb-d204-4feb-84b2-07bbf0153981",
   "metadata": {},
   "outputs": [],
   "source": []
  }
 ],
 "metadata": {
  "kernelspec": {
   "display_name": "Python 3 (ipykernel)",
   "language": "python",
   "name": "python3"
  },
  "language_info": {
   "codemirror_mode": {
    "name": "ipython",
    "version": 3
   },
   "file_extension": ".py",
   "mimetype": "text/x-python",
   "name": "python",
   "nbconvert_exporter": "python",
   "pygments_lexer": "ipython3",
   "version": "3.10.12"
  }
 },
 "nbformat": 4,
 "nbformat_minor": 5
}
